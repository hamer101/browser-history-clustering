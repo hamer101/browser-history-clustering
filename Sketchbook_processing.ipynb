{
 "cells": [
  {
   "cell_type": "code",
   "execution_count": 1,
   "id": "ba3db45f-c640-4612-b50c-9d0b9682413d",
   "metadata": {},
   "outputs": [],
   "source": [
    "import langid\n",
    "import time\n",
    "import pandas as pd\n",
    "import numpy as np\n",
    "import matplotlib.pyplot as plt\n",
    "import matplotlib.gridspec as gridspec\n",
    "\n",
    "from sklearn.pipeline import make_pipeline\n",
    "from sklearn.decomposition import TruncatedSVD\n",
    "from sklearn.preprocessing import Normalizer\n",
    "from sklearn.cluster import OPTICS, KMeans\n",
    "from sklearn.feature_extraction.text import TfidfVectorizer\n",
    "\n",
    "DOCUMENTS_JSON = 'data/WordbagsBuckets.json'"
   ]
  },
  {
   "cell_type": "code",
   "execution_count": 2,
   "id": "3b51b868-42c5-4e46-8d66-ce920abd1bcc",
   "metadata": {},
   "outputs": [],
   "source": [
    "df = pd.read_json(DOCUMENTS_JSON)\n",
    "df = df[df['wordbag'] != ''].copy()\n",
    "df['pl'] = [False if (langid.classify(' '.join(df.iloc[i]['wordbag'].split()[:30]))[0] == 'en') else True\n",
    "             for i in range(0, len(df.values))]\n",
    "\n",
    "corpus_pl = [row.wordbag for _,row in df[df['pl']].iterrows()]\n",
    "corpus_en = [row.wordbag for _,row in df[~df['pl']].iterrows()]\n",
    "sites_pl = df[df['pl']]['netloc'].values"
   ]
  },
  {
   "cell_type": "code",
   "execution_count": 3,
   "id": "4c888e43-682e-4592-9db2-0c3f4ef4494a",
   "metadata": {},
   "outputs": [
    {
     "name": "stdout",
     "output_type": "stream",
     "text": [
      "(27, 10996)\n"
     ]
    }
   ],
   "source": [
    "np.random.seed(2137)\n",
    "n_clusters = 4\n",
    "\n",
    "vectorizer_pl = TfidfVectorizer(sublinear_tf=True, max_df=0.5, min_df=2, use_idf=True)\n",
    "X_pl = vectorizer_pl.fit_transform(corpus_pl)"
   ]
  },
  {
   "cell_type": "code",
   "execution_count": null,
   "id": "4283c22f-db65-46e0-8355-5eb06183b9e9",
   "metadata": {},
   "outputs": [],
   "source": [
    "svd = TruncatedSVD(100)\n",
    "normalizer = Normalizer(copy=False)\n",
    "lsa = make_pipeline(svd, normalizer)\n",
    "X_pl = lsa.fit_transform(X_pl)"
   ]
  },
  {
   "cell_type": "code",
   "execution_count": 4,
   "id": "476abe78-3273-4e79-95b1-211c0f22d566",
   "metadata": {},
   "outputs": [
    {
     "name": "stdout",
     "output_type": "stream",
     "text": [
      "Clustering\n",
      "done in 0.08110952377319336\n"
     ]
    }
   ],
   "source": [
    "km_pl = KMeans(\n",
    "        n_clusters=n_clusters,\n",
    "        init=\"k-means++\",\n",
    "        max_iter=100,\n",
    "        n_init=10\n",
    ")\n",
    "print('Clustering')\n",
    "t0 = time.time()\n",
    "km_pl.fit(X_pl)\n",
    "print(f'done in {time.time() - t0}' )"
   ]
  },
  {
   "cell_type": "code",
   "execution_count": 5,
   "id": "e8771df0-5950-4a31-9cae-813d34e02ea1",
   "metadata": {},
   "outputs": [
    {
     "name": "stdout",
     "output_type": "stream",
     "text": [
      "[2 2 2 1 1 2 1 2 2 1 2 0 3 0 1 1 2 1 2 1 3 0 2 1 2 1 2]\n"
     ]
    }
   ],
   "source": [
    "print(km_pl.labels_)\n",
    "terms = vectorizer_pl.get_feature_names_out()\n",
    "#original_space_centroids = svd.inverse_transform(km_pl.cluster_centers_)\n",
    "#order_centroids = original_space_centroids.argsort()[:, ::-1]\n",
    "order_centroids = km_pl.cluster_centers_.argsort()[:, ::-1]"
   ]
  },
  {
   "cell_type": "code",
   "execution_count": 6,
   "id": "59cecc0b-a846-47f2-a4a6-c9247800ed10",
   "metadata": {},
   "outputs": [
    {
     "name": "stdout",
     "output_type": "stream",
     "text": [
      "Cluster 0 ['drive.google.com', 'accounts.google.com', 'app.erasmusplusols.eu']:\n",
      "  latviešu  hrvatski  magyar  slovenčina  slovenščina  български  ελληνικά  eesti  dansk  lietuvių \n",
      "Cluster 1 ['www.usosweb.uj.edu.pl', 'login.uj.edu.pl', 'pl.wikipedia.org', 'translate.google.pl', 'sjp.pl', 'im.uj.edu.pl', 'synonim.net', 'sjp.pwn.pl', 'api.stat.gov.pl', 'stat.gov.pl']:\n",
      "  należeć  jagielloński  przedmiot  urząd  grupa  słowo  prosić  informatyka  studia  praca \n",
      "Cluster 2 ['www.youtube.com', 'www.linkedin.com', 'www.instagram.com', 'nofluffjobs.com', 'www.facebook.com', 'coub.com', 'docs.google.com', 'soundcloud.com', 'www.cloudskillsboost.google', 'pandas.pydata.org', 'bdl.stat.gov.pl', 'www.sokmarket.com.tr']:\n",
      "  urząd  zablokować  wzgląd  cooki  adr  için  size  cookie  daha  plików \n",
      "Cluster 3 ['outlook.office.com', 'outlook.office365.com']:\n",
      "  prywatność  utworzyć  cookie  uzyskać  ponownie  spróbować  warunki  logować  base  odświeżyć \n"
     ]
    }
   ],
   "source": [
    "for i in range(n_clusters):\n",
    "    print(f'Cluster {i} ', end='')\n",
    "    print([sites_pl[l] for l in range(len(sites_pl)) if km_pl.labels_[l] == i], end=':\\n ')\n",
    "    for k in order_centroids[i, :10]:\n",
    "        print(f' {terms[k]} ', end='')\n",
    "    print()"
   ]
  },
  {
   "cell_type": "code",
   "execution_count": null,
   "id": "908848ee-efc2-4448-a99a-f3b67c2ac867",
   "metadata": {},
   "outputs": [],
   "source": [
    "clust3_pl = OPTICS(min_samples=5, xi=0.05, min_cluster_size=0.1)\n",
    "X3_pl = feature_matrix3_pl.toarray()\n",
    "clust3_pl.fit(X3_pl)"
   ]
  },
  {
   "cell_type": "code",
   "execution_count": null,
   "id": "3482a3ba-5ddc-49f2-aeec-9c0eb4440f51",
   "metadata": {},
   "outputs": [],
   "source": [
    "space = np.arange(X3_pl.shape[0])\n",
    "reachability = clust3_pl.reachability_[clust3_pl.ordering_]\n",
    "labels = clust3_pl.labels_[clust3_pl.ordering_]\n",
    "\n",
    "plt.figure(figsize=(18, 18))\n",
    "G = gridspec.GridSpec(3, 3)\n",
    "ax1 = plt.subplot(G[0, :])\n",
    "ax2 = plt.subplot(G[1:3, :])\n",
    "\n",
    "# Reachability plot\n",
    "colors = [\"g.\", \"r.\", \"b.\", \"y.\", \"m.\"]\n",
    "for klass, color in zip(range(0, max(clust3_pl.labels_)+1), colors):\n",
    "    Xk = space[labels == klass]\n",
    "    Rk = reachability[labels == klass]\n",
    "    ax1.plot(Xk, Rk, color, alpha=1)\n",
    "ax1.plot(space[labels == -1], reachability[labels == -1], \"k.\", alpha=1)\n",
    "ax1.set_ylabel(\"Reachability (epsilon distance)\")\n",
    "ax1.set_title(\"Reachability Plot\")\n",
    "\n",
    "# OPTICS\n",
    "colors = [\"g.\", \"r.\", \"b.\", \"y.\", \"m.\"]\n",
    "for klass, color in zip(range(0, max(clust3_pl.labels_)+1), colors):\n",
    "    Xk = X3_pl[clust3_pl.labels_ == klass]\n",
    "    ax2.plot(Xk[:, 9], Xk[:, 63], color, alpha=1)\n",
    "ax2.plot(X3_pl[clust3_pl.labels_ == -1, 0], X3_pl[clust3_pl.labels_ == -1, 1], \"k+\", alpha=1)\n",
    "ax2.set_title(\"Automatic Clustering\\nOPTICS\")"
   ]
  }
 ],
 "metadata": {
  "kernelspec": {
   "display_name": "Python 3 (ipykernel)",
   "language": "python",
   "name": "python3"
  },
  "language_info": {
   "codemirror_mode": {
    "name": "ipython",
    "version": 3
   },
   "file_extension": ".py",
   "mimetype": "text/x-python",
   "name": "python",
   "nbconvert_exporter": "python",
   "pygments_lexer": "ipython3",
   "version": "3.8.12"
  }
 },
 "nbformat": 4,
 "nbformat_minor": 5
}
