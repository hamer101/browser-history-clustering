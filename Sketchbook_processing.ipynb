{
 "cells": [
  {
   "cell_type": "code",
   "execution_count": 1,
   "id": "ba3db45f-c640-4612-b50c-9d0b9682413d",
   "metadata": {},
   "outputs": [],
   "source": [
    "import re\n",
    "import json\n",
    "import pandas as pd\n",
    "import numpy as np\n",
    "import matplotlib.pyplot as plt\n",
    "import matplotlib.gridspec as gridspec\n",
    "\n",
    "from sklearn.cluster import OPTICS, cluster_optics_dbscan\n",
    "from sklearn.feature_extraction.text import TfidfVectorizer\n",
    "\n",
    "DOCUMENTS_JSON = 'data/BrowsingHistoryWordbags.json'\n"
   ]
  },
  {
   "cell_type": "code",
   "execution_count": 2,
   "id": "3b51b868-42c5-4e46-8d66-ce920abd1bcc",
   "metadata": {},
   "outputs": [],
   "source": [
    "df = pd.read_json(DOCUMENTS_JSON)"
   ]
  },
  {
   "cell_type": "code",
   "execution_count": 3,
   "id": "587cd809-2c9e-4c88-b709-5e4dfd1eaabc",
   "metadata": {},
   "outputs": [],
   "source": [
    "df_trim = df[df.response_code == 200].copy()"
   ]
  },
  {
   "cell_type": "code",
   "execution_count": 4,
   "id": "8d7f5318-7044-48c1-af62-ffb1c3e18715",
   "metadata": {},
   "outputs": [
    {
     "data": {
      "text/plain": [
       "https://www.kaggle.com/learn                                                                                                                                                                           26\n",
       "https://www.youtube.com/                                                                                                                                                                               25\n",
       "https://www.linkedin.com/my-items/saved-jobs/                                                                                                                                                          11\n",
       "https://www.linkedin.com/feed/                                                                                                                                                                         11\n",
       "https://en.wikipedia.org/wiki/Monte_Carlo_method                                                                                                                                                        9\n",
       "                                                                                                                                                                                                       ..\n",
       "https://www.linkedin.com/jobs/search/?alertAction=viewjobs&distance=25&f_TPR=a1647294278-&keywords=Analityk%20danych&savedSearchId=1726517515&searchAlertRefId=0103f4ea-fa3a-454f-a16f-a5287e10db18     1\n",
       "https://www.linkedin.com/jobs/search/?geoId=102560051&keywords=analityk%20danych&location=Warszawa%2C%20Woj.%20Mazowieckie%2C%20Polska                                                                  1\n",
       "https://www.linkedin.com/jobs/search/?f_E=1&geoId=103348205&location=Krak%C3%B3w%2C%20Woj.%20Ma%C5%82opolskie%2C%20Polska&sortBy=R                                                                      1\n",
       "https://www.linkedin.com/jobs/search/?currentJobId=2931006782&f_E=1&geoId=103348205&location=Krak%C3%B3w%2C%20Woj.%20Ma%C5%82opolskie%2C%20Polska&sortBy=R                                              1\n",
       "https://pl.wikipedia.org/wiki/Gramatyka_j%C4%99zyka_fi%C5%84skiego                                                                                                                                      1\n",
       "Name: url, Length: 1444, dtype: int64"
      ]
     },
     "execution_count": 4,
     "metadata": {},
     "output_type": "execute_result"
    }
   ],
   "source": [
    "df_trim['url'].value_counts()"
   ]
  },
  {
   "cell_type": "code",
   "execution_count": 5,
   "id": "47bed772-a953-4182-a818-148b309ac031",
   "metadata": {},
   "outputs": [],
   "source": [
    "corpus = [row.wordbag for _,row in df_trim.iterrows()]"
   ]
  },
  {
   "cell_type": "code",
   "execution_count": null,
   "id": "32a4e37a-8505-4334-ae3a-663b0123244a",
   "metadata": {},
   "outputs": [],
   "source": [
    "vectorizer = TfidfVectorizer(sublinear_tf=True)\n",
    "feature_matrix = vectorizer.fit_transform(corpus)\n",
    "print(vectorizer.get_feature_names_out()[-50:])\n",
    "print(feature_matrix.shape)"
   ]
  },
  {
   "cell_type": "code",
   "execution_count": null,
   "id": "1b9735d6-1d04-4624-91ca-a177d70e849f",
   "metadata": {},
   "outputs": [],
   "source": [
    "clust = OPTICS(min_samples=50, xi=0.07, min_cluster_size=0.05)\n",
    "X = feature_matrix.toarray()\n",
    "clust.fit(X)"
   ]
  },
  {
   "cell_type": "code",
   "execution_count": null,
   "id": "b5688b43-fbfb-46ac-91f1-d6244979905e",
   "metadata": {},
   "outputs": [],
   "source": [
    "vectorizer2 = TfidfVectorizer(sublinear_tf=True)\n",
    "feature_matrix2 = vectorizer2.fit_transform(corpus)\n",
    "print(vectorizer2.get_feature_names_out()[:50])\n",
    "print(feature_matrix2.shape)"
   ]
  },
  {
   "cell_type": "code",
   "execution_count": null,
   "id": "4941a597-d089-4f14-b464-fa1a2daff207",
   "metadata": {},
   "outputs": [],
   "source": [
    "clust2 = OPTICS(min_samples=50, xi=0.01, min_cluster_size=0.05)\n",
    "X2 = feature_matrix2.toarray()\n",
    "clust2.fit(X2)"
   ]
  },
  {
   "cell_type": "code",
   "execution_count": 12,
   "id": "4c888e43-682e-4592-9db2-0c3f4ef4494a",
   "metadata": {},
   "outputs": [
    {
     "name": "stdout",
     "output_type": "stream",
     "text": [
      "['abl' 'accept' 'access' 'accord' 'account' 'activ' 'actual' 'ad' 'adapt'\n",
      " 'add' 'addit' 'address' 'adresu' 'advertis' 'affect' 'afrikaans' 'ago'\n",
      " 'agre' 'agreement' 'aktualnie' 'aktywność' 'al' 'algorithm' 'allow'\n",
      " 'alreadi' 'also' 'altern' 'alway' 'analysi' 'analyt' 'anoth' 'answer'\n",
      " 'anyth' 'appear' 'appli' 'applic' 'approach' 'approxim' 'arab' 'area'\n",
      " 'argument' 'around' 'array' 'art' 'articl' 'ask' 'assign' 'associ'\n",
      " 'assum' 'attribut' 'automat' 'autorski' 'avail' 'averag' 'avoid'\n",
      " 'azərbaycan' 'back' 'badg' 'bahasa' 'base' 'basic' 'bayesian' 'becom'\n",
      " 'begin' 'behavior' 'best' 'better' 'bezpieczeństwo' 'blog' 'book'\n",
      " 'bosanski' 'box' 'brand' 'brasil' 'bronz' 'brows' 'build' 'busi' 'być'\n",
      " 'calcul' 'call' 'cambridg' 'canada' 'cannot' 'career' 'carlo' 'case'\n",
      " 'català' 'categori' 'caus' 'cel' 'cela' 'center' 'central' 'centrum'\n",
      " 'certain' 'chain' 'chang' 'chapter' 'charact' 'chart' 'chat' 'chcieć'\n",
      " 'check' 'chines' 'choic' 'choos' 'chwila' 'citat' 'cite' 'clarif' 'class'\n",
      " 'claus' 'click' 'client' 'close' 'co' 'code' 'collabor' 'collect'\n",
      " 'column' 'com' 'combin' 'command' 'comment' 'common' 'commun' 'compani'\n",
      " 'compar' 'complet' 'complex' 'comput' 'condit' 'conduct' 'connect'\n",
      " 'consent' 'consid' 'consist' 'construct' 'contact' 'contain' 'content'\n",
      " 'continu' 'contribut' 'control' 'converg' 'cooki' 'cookie' 'copyright'\n",
      " 'correct' 'correl' 'correspond' 'could' 'count' 'cours' 'creat' 'creativ'\n",
      " 'current' 'custom' 'cymraeg' 'czech' 'czynnik' 'danish' 'dansk' 'dany'\n",
      " 'data' 'databas' 'date' 'day' 'de' 'deep' 'default' 'defin' 'definit'\n",
      " 'densiti' 'depend' 'describ' 'descript' 'design' 'desir' 'detail'\n",
      " 'determin' 'deutsch' 'devel' 'develop' 'deweloper' 'differ' 'direct'\n",
      " 'directli' 'discard' 'discuss' 'dismiss' 'displaystyl' 'distribut'\n",
      " 'dobierany' 'dobry' 'document' 'dodatkowo' 'doi' 'domain' 'donat' 'done'\n",
      " 'dopasować' 'dostarczać' 'dostosować' 'dostępny' 'dowiedz' 'dowiedzieć'\n",
      " 'download' 'draft' 'drop' 'dutch' 'dynam' 'działanie' 'działo' 'earli'\n",
      " 'easi' 'ed' 'edit' 'eesti' 'effect' 'effici' 'either' 'element' 'email'\n",
      " 'employ' 'en' 'enabl' 'encyclopedia' 'end' 'engin' 'english' 'entri'\n",
      " 'equal' 'equat' 'equival' 'error' 'españa' 'español' 'essenti' 'estim'\n",
      " 'et' 'etc' 'euskara' 'evalu' 'even' 'event' 'everi' 'exampl' 'except'\n",
      " 'exchang' 'execut' 'exist' 'expand' 'expect' 'experi' 'explor' 'express'\n",
      " 'extens' 'extern' 'facebook' 'fact' 'factor' 'fail' 'featur' 'februari'\n",
      " 'feed' 'field' 'file' 'filipina' 'film' 'filter' 'financ' 'find' 'finit'\n",
      " 'first' 'fit' 'fix' 'follow' 'form' 'format' 'found' 'frac' 'franca'\n",
      " 'françai' 'français' 'free' 'french' 'full' 'function' 'funkcja'\n",
      " 'gaeilge' 'galego' 'game' 'gener' 'generować' 'german' 'get' 'github'\n",
      " 'give' 'given' 'global' 'go' 'goe' 'gold' 'good' 'googl' 'google' 'gram'\n",
      " 'graph' 'graphic' 'great' 'group' 'guest' 'guid' 'guidelin' 'główny'\n",
      " 'hasło' 'help' 'high' 'highest' 'hindi' 'hire' 'histori' 'hold' 'home'\n",
      " 'hot' 'hour' 'howev' 'hrvatski' 'http' 'hybrid' 'id' 'idea' 'ident'\n",
      " 'identifi' 'ignor' 'illustr' 'imag' 'implement' 'import' 'improv'\n",
      " 'includ' 'increas' 'independ' 'index' 'individu' 'indonesia'\n",
      " 'indywidualny' 'infer' 'inform' 'informacja' 'inny' 'input' 'insert'\n",
      " 'insid' 'instead' 'int' 'integ' 'integr' 'interest' 'intern' 'internet'\n",
      " 'internship' 'interpret' 'interv' 'introduct' 'involv' 'issu' 'italian'\n",
      " 'italiano' 'item' 'jakość' 'japanes' 'job' 'john' 'join' 'journal' 'jump'\n",
      " 'każdy' 'key' 'kingdom' 'kiswahili' 'kliknąć' 'know' 'knowledg' 'known'\n",
      " 'korean' 'korzystać' 'kraków' 'krowodrza' 'languag' 'larg' 'last'\n",
      " 'latinica' 'latinoamérica' 'latviešu' 'lead' 'learn' 'least' 'left'\n",
      " 'less' 'let' 'level' 'lietuvių' 'life' 'like' 'likelihood' 'limit' 'line'\n",
      " 'linear' 'link' 'list' 'live' 'load' 'local' 'locat' 'log' 'lokalizacja'\n",
      " 'long' 'look' 'machin' 'made' 'magyar' 'main' 'make' 'malay' 'malaysia'\n",
      " 'manag' 'mani' 'map' 'mark' 'market' 'markov' 'match' 'math' 'mathemat'\n",
      " 'matrix' 'may' 'mean' 'measur' 'media' 'melayu' 'member' 'menu' 'messag'\n",
      " 'meta' 'method' 'mid' 'miejsce' 'mierzyć' 'might' 'minut' 'mobil' 'mode'\n",
      " 'model' 'modifi' 'moment' 'mont' 'month' 'move' 'możliwości' 'much'\n",
      " 'multipl' 'music' 'must' 'móc' 'nadużyć' 'name' 'następna' 'natur'\n",
      " 'navig' 'necessari' 'nederland' 'nederlands' 'need' 'net' 'network'\n",
      " 'never' 'new' 'newest' 'next' 'niektóry' 'nois' 'non' 'normal' 'norsk'\n",
      " 'norwegian' 'note' 'nowy' 'null' 'number' 'numer' 'obecny' 'object'\n",
      " 'observ' 'obtain' 'occur' 'ochrona' 'odbiorca' 'often' 'oglądać' 'old'\n",
      " 'oldest' 'one' 'onlin' 'opcja' 'open' 'oper' 'opinion' 'opportun'\n",
      " 'opracowywać' 'oprzeć' 'optim' 'option' 'order' 'org' 'origin' 'oszustwo'\n",
      " 'otherwis' 'output' 'overflow' 'page' 'paramet' 'part' 'parti' 'partial'\n",
      " 'particular' 'partner' 'password' 'past' 'path' 'peopl' 'per' 'perform'\n",
      " 'person' 'personalizacja' 'phone' 'photo' 'physic' 'pl' 'place' 'plan'\n",
      " 'pleas' 'plik' 'podstawa' 'point' 'poland' 'polici' 'polish' 'polityka'\n",
      " 'polska' 'polski' 'pomiar' 'poprawiać' 'popul' 'portal' 'portugal'\n",
      " 'portugues' 'portuguê' 'português' 'posit' 'possibl' 'post' 'power'\n",
      " 'poziom' 'pozwalać' 'pp' 'practic' 'prasowy' 'prawa' 'predict' 'prefer'\n",
      " 'present' 'press' 'prev' 'previou' 'price' 'privaci' 'privacytools'\n",
      " 'privat' 'probabl' 'problem' 'procedur' 'process' 'produc' 'product'\n",
      " 'profession' 'program' 'project' 'properti' 'propos' 'provid'\n",
      " 'prywatność' 'przeglądarka' 'przeglądać' 'przejrzeć' 'przejść' 'przerwa'\n",
      " 'przetestować' 'przybliżyć' 'przykład' 'public' 'publish' 'purpos'\n",
      " 'python' 'queri' 'question' 'random' 'rang' 'rather' 'ray' 'reach' 'read'\n",
      " 'real' 'reason' 'receiv' 'recent' 'record' 'recruit' 'reduc' 'refer'\n",
      " 'regress' 'reklama' 'rekomendacja' 'relat' 'releas' 'relev' 'remot'\n",
      " 'remov' 'render' 'replac' 'report' 'repres' 'requir' 'research' 'reset'\n",
      " 'restrict' 'result' 'retriev' 'return' 'review' 'rezygnacja' 'right'\n",
      " 'role' 'romanian' 'română' 'row' 'rule' 'run' 'russian' 'sale' 'sampl'\n",
      " 'save' 'say' 'schema' 'scienc' 'score' 'search' 'second' 'section'\n",
      " 'secur' 'see' 'select' 'senior' 'sens' 'separ' 'sequenc' 'seri' 'serv'\n",
      " 'server' 'servic' 'set' 'sever' 'share' 'short' 'show' 'shown' 'shqip'\n",
      " 'side' 'sign' 'silver' 'similar' 'simpl' 'simpli' 'simplifi' 'simul'\n",
      " 'sinc' 'singl' 'site' 'size' 'się' 'skip' 'skontaktować' 'skuteczność'\n",
      " 'slovenčina' 'slovenščina' 'softwar' 'solut' 'solv' 'someth' 'sometim'\n",
      " 'sort' 'sourc' 'space' 'spam' 'spanish' 'special' 'specif' 'specifi'\n",
      " 'spersonalizować' 'springer' 'sql' 'squar' 'srpski' 'stack' 'standard'\n",
      " 'start' 'state' 'statement' 'states' 'statist' 'statystyk' 'staż' 'step'\n",
      " 'still' 'store' 'string' 'strona' 'structur' 'student' 'studi' 'subject'\n",
      " 'submit' 'subscrib' 'success' 'sum' 'summer' 'suomi' 'suppli' 'support'\n",
      " 'sure' 'svenska' 'swedish' 'syntax' 'system' 'tabl' 'tag' 'tagalog'\n",
      " 'take' 'taki' 'talent' 'talk' 'team' 'tech' 'technic' 'techniqu'\n",
      " 'technolog' 'temat' 'templat' 'temporari' 'term' 'test' 'text' 'th'\n",
      " 'thai' 'thank' 'theme' 'theorem' 'theori' 'therefor' 'think' 'third'\n",
      " 'though' 'three' 'thu' 'time' 'tip' 'titl' 'tiếng' 'tool' 'top' 'total'\n",
      " 'trace' 'tradit' 'trafny' 'transact' 'treść' 'tri' 'trial' 'trigger'\n",
      " 'true' 'trust' 'turkish' 'turn' 'twitter' 'two' 'twoja' 'twojego' 'twój'\n",
      " 'twórca' 'type' 'typic' 'türkçe' 'understand' 'unit' 'united' 'univers'\n",
      " 'unsupport' 'updat' 'upload' 'us' 'use' 'user' 'ustawienia' 'ustawienie'\n",
      " 'usual' 'usługa' 'usługi' 'utrzymywać' 'użytkownik' 'używać' 'valid'\n",
      " 'valu' 'variabl' 'varianc' 'version' 'via' 'video' 'view' 'việt' 'want'\n",
      " 'warunki' 'way' 'websit' 'week' 'wejść' 'well' 'whether' 'whose'\n",
      " 'wikidata' 'wikipedia' 'window' 'withdraw' 'within' 'without' 'witryna'\n",
      " 'więcej' 'word' 'work' 'would' 'write' 'written' 'www' 'wykorzystywać'\n",
      " 'wynik' 'wyszukiwarka' 'wyszukiwać' 'wyświetlać' 'year' 'york' 'youtub'\n",
      " 'zaangażować' 'zainteresować' 'zależność' 'zalogować' 'zaloguj' 'zanim'\n",
      " 'zasada' 'zbek' 'zero' 'zgodzić' 'zrezygnować' 'zrozumieć' 'íslenska'\n",
      " 'čeština' 'śledzić' 'ελληνικά' 'беларуская' 'български' 'кыргызча'\n",
      " 'македонски' 'монгол' 'русский' 'српски' 'тілі' 'українська' 'қазақ'\n",
      " 'հայերեն' 'עברית' 'اردو' 'العربية' 'فارسی' 'मर' 'অসম' 'જર' 'ଓଡ' 'தம' 'ಕನ'\n",
      " 'ನಡ' 'മലയ' 'හල' 'ภาษาไทย' 'ไทย' 'ລາວ' 'ქართული' 'አማርኛ' '日本語' '正體中文'\n",
      " '简体中文' '繁體中文' '香港' '한국어']\n",
      "(1945, 913)\n"
     ]
    }
   ],
   "source": [
    "vectorizer3 = TfidfVectorizer(sublinear_tf=True, max_df=0.8, min_df=0.04)\n",
    "feature_matrix3 = vectorizer3.fit_transform(corpus)\n",
    "print(vectorizer3.get_feature_names_out())\n",
    "print(feature_matrix3.shape)"
   ]
  },
  {
   "cell_type": "code",
   "execution_count": 21,
   "id": "8a521b84-2ee9-4a34-943b-3ae8cee78f74",
   "metadata": {},
   "outputs": [
    {
     "name": "stderr",
     "output_type": "stream",
     "text": [
      "C:\\JupyterLab\\resources\\jlab_server\\lib\\site-packages\\sklearn\\cluster\\_optics.py:904: RuntimeWarning: divide by zero encountered in true_divide\n",
      "  ratio = reachability_plot[:-1] / reachability_plot[1:]\n"
     ]
    },
    {
     "data": {
      "text/plain": [
       "OPTICS(min_cluster_size=0.05, min_samples=20, xi=0.02)"
      ]
     },
     "execution_count": 21,
     "metadata": {},
     "output_type": "execute_result"
    }
   ],
   "source": [
    "clust3 = OPTICS(min_samples=20, xi=0.02, min_cluster_size=0.05)\n",
    "X3 = feature_matrix3.toarray()\n",
    "clust3.fit(X3)"
   ]
  },
  {
   "cell_type": "code",
   "execution_count": 56,
   "id": "3482a3ba-5ddc-49f2-aeec-9c0eb4440f51",
   "metadata": {},
   "outputs": [
    {
     "data": {
      "text/plain": [
       "Text(0.5, 1.0, 'Automatic Clustering\\nOPTICS')"
      ]
     },
     "execution_count": 56,
     "metadata": {},
     "output_type": "execute_result"
    },
    {
     "data": {
      "image/png": "[encoded data removed]",
      "text/plain": [
       "<Figure size 1296x1296 with 2 Axes>"
      ]
     },
     "metadata": {
      "needs_background": "light"
     },
     "output_type": "display_data"
    }
   ],
   "source": [
    "space = np.arange(X3.shape[0])\n",
    "reachability = clust3.reachability_[clust3.ordering_]\n",
    "labels = clust3.labels_[clust3.ordering_]\n",
    "\n",
    "plt.figure(figsize=(18, 18))\n",
    "G = gridspec.GridSpec(3, 3)\n",
    "ax1 = plt.subplot(G[0, :])\n",
    "ax2 = plt.subplot(G[1:3, :])\n",
    "\n",
    "# Reachability plot\n",
    "colors = [\"g.\", \"r.\", \"b.\", \"y.\", \"m.\"]\n",
    "for klass, color in zip(range(0, max(clust3.labels_)+1), colors):\n",
    "    Xk = space[labels == klass]\n",
    "    Rk = reachability[labels == klass]\n",
    "    ax1.plot(Xk, Rk, color, alpha=1)\n",
    "ax1.plot(space[labels == -1], reachability[labels == -1], \"k.\", alpha=1)\n",
    "ax1.set_ylabel(\"Reachability (epsilon distance)\")\n",
    "ax1.set_title(\"Reachability Plot\")\n",
    "\n",
    "# OPTICS\n",
    "colors = [\"g.\", \"r.\", \"b.\", \"y.\", \"m.\"]\n",
    "for klass, color in zip(range(0, max(clust3.labels_)+1), colors):\n",
    "    Xk = X3[clust3.labels_ == klass]\n",
    "    ax2.plot(Xk[:, 0], Xk[:, 24], color, alpha=0.3)\n",
    "ax2.plot(X3[clust3.labels_ == -1, 0], X3[clust3.labels_ == -1, 1], \"k+\", alpha=1)\n",
    "ax2.set_title(\"Automatic Clustering\\nOPTICS\")"
   ]
  },
  {
   "cell_type": "code",
   "execution_count": 53,
   "id": "a50c806d-d65f-44b3-8773-57c80e54b540",
   "metadata": {},
   "outputs": [
    {
     "data": {
      "text/plain": [
       "3"
      ]
     },
     "execution_count": 53,
     "metadata": {},
     "output_type": "execute_result"
    }
   ],
   "source": [
    "max(clust3.labels_)"
   ]
  },
  {
   "cell_type": "code",
   "execution_count": null,
   "id": "3ba50796-cf2f-4e6e-bdec-4e55fc071538",
   "metadata": {},
   "outputs": [
    {
     "data": {
      "text/plain": [
       "3"
      ]
     },
     "execution_count": 32,
     "metadata": {},
     "output_type": "execute_result"
    }
   ],
   "source": [
    "Xk"
   ]
  },
  {
   "cell_type": "code",
   "execution_count": null,
   "id": "5de17f1c-d137-400a-a9aa-bca4c32707a6",
   "metadata": {},
   "outputs": [],
   "source": [
    "reachability"
   ]
  }
 ],
 "metadata": {
  "kernelspec": {
   "display_name": "Python 3 (ipykernel)",
   "language": "python",
   "name": "python3"
  },
  "language_info": {
   "codemirror_mode": {
    "name": "ipython",
    "version": 3
   },
   "file_extension": ".py",
   "mimetype": "text/x-python",
   "name": "python",
   "nbconvert_exporter": "python",
   "pygments_lexer": "ipython3",
   "version": "3.8.12"
  }
 },
 "nbformat": 4,
 "nbformat_minor": 5
}
